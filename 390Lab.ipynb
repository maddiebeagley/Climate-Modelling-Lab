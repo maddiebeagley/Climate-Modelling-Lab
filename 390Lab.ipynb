{
 "cells": [
  {
   "cell_type": "markdown",
   "metadata": {},
   "source": [
    "# Physics 390 - Climate Modelling\n",
    "\n",
    "The first stage of modelling is to import relevant modules into the notebook. After this, data can be loaded in using the functionality provided by the helper script. \n"
   ]
  },
  {
   "cell_type": "code",
   "execution_count": 28,
   "metadata": {},
   "outputs": [],
   "source": [
    "import numpy as np\n",
    "from netCDF4 import Dataset\n",
    "import os\n",
    "import numpy as np\n",
    "\n",
    "# Data directories\n",
    "MODEL_DATA_DIR = \"Model Data/\"\n",
    "SATELLITE_DATA_DIR = \"Satellite Data/\"\n",
    "\n",
    "# Full data file paths\n",
    "cl_data_file = MODEL_DATA_DIR + 'clcalipso_CFmon_CESM2_amip_r2i1p1f1_gn_195001-201412.nc'\n",
    "clt_data_file = MODEL_DATA_DIR + 'cltcalipso_CFmon_CESM2_amip_r2i1p1f1_gn_195001-201412.nc'\n",
    "cl_ice_data_file = MODEL_DATA_DIR + 'clcalipsoice_CFmon_CESM2_amip_r2i1p1f1_gn_195001-201412.nc'\n",
    "cl_liq_data_file = MODEL_DATA_DIR + 'clcalipsoliq_CFmon_CESM2_amip_r2i1p1f1_gn_195001-201412.nc'\n",
    "\n",
    "cl_data = Dataset(cl_data_file, 'r')\n",
    "clt_data = Dataset(clt_data_file, 'r')\n",
    "cl_ice_data = Dataset(cl_ice_data_file, 'r')\n",
    "cl_liq_data = Dataset(cl_liq_data_file, 'r')"
   ]
  },
  {
   "cell_type": "code",
   "execution_count": 30,
   "metadata": {},
   "outputs": [
    {
     "output_type": "stream",
     "name": "stdout",
     "text": "{'cltcalipso': <class 'netCDF4._netCDF4.Variable'>\nfloat32 cltcalipso(time, lat, lon)\n    _FillValue: 1e+20\n    cell_measures: area: areacella\n    cell_methods: area: time: mean\n    comment: \"X_area_fraction\" means the fraction of horizontal area occupied by X. \"X_area\" means the horizontal area occupied by X within the grid cell. Cloud area fraction is also called \"cloud amount\" and \"cloud cover\". The cloud area fraction is for the whole atmosphere column, as seen from the surface or the top of the atmosphere. The cloud area fraction in a layer of the atmosphere has the standard name cloud_area_fraction_in_atmosphere_layer.\n    coordinates: time lat lon\n    description: \"X_area_fraction\" means the fraction of horizontal area occupied by X. \"X_area\" means the horizontal area occupied by X within the grid cell. Cloud area fraction is also called \"cloud amount\" and \"cloud cover\". The cloud area fraction is for the whole atmosphere column, as seen from the surface or the top of the atmosphere. The cloud area fraction in a layer of the atmosphere has the standard name cloud_area_fraction_in_atmosphere_layer.\n    frequency: mon\n    id: cltcalipso\n    long_name: CALIPSO Total Cloud Cover Percentage\n    mipTable: CFmon\n    missing_value: 1e+20\n    out_name: cltcalipso\n    prov: CFmon ((isd.003))\n    realm: atmos\n    standard_name: cloud_area_fraction\n    time: time\n    time_label: time-mean\n    time_title: Temporal mean\n    title: CALIPSO Total Cloud Cover Percentage\n    type: real\n    units: %\n    variable_id: cltcalipso\nunlimited dimensions: time\ncurrent shape = (780, 192, 288)\nfilling on, 'lat': <class 'netCDF4._netCDF4.Variable'>\nfloat64 lat(lat)\n    axis: Y\n    bounds: lat_bnds\n    standard_name: latitude\n    title: Latitude\n    type: double\n    units: degrees_north\n    valid_max: 90.0\n    valid_min: -90.0\nunlimited dimensions: \ncurrent shape = (192,)\nfilling on, default _FillValue of 9.969209968386869e+36 used, 'lon': <class 'netCDF4._netCDF4.Variable'>\nfloat64 lon(lon)\n    axis: X\n    bounds: lon_bnds\n    standard_name: longitude\n    title: Longitude\n    type: double\n    units: degrees_east\n    valid_max: 360.0\n    valid_min: 0.0\nunlimited dimensions: \ncurrent shape = (288,)\nfilling on, default _FillValue of 9.969209968386869e+36 used, 'time': <class 'netCDF4._netCDF4.Variable'>\nfloat64 time(time)\n    axis: T\n    bounds: time_bnds\n    standard_name: time\n    title: time\n    type: double\n    units: days since 0001-01-01 00:00:00\n    calendar: noleap\nunlimited dimensions: time\ncurrent shape = (780,)\nfilling on, default _FillValue of 9.969209968386869e+36 used, 'time_bnds': <class 'netCDF4._netCDF4.Variable'>\nfloat64 time_bnds(time, nbnd)\n    calendar: noleap\n    units: days since 0001-01-01 00:00:00\nunlimited dimensions: time\ncurrent shape = (780, 2)\nfilling on, default _FillValue of 9.969209968386869e+36 used, 'lat_bnds': <class 'netCDF4._netCDF4.Variable'>\nfloat32 lat_bnds(lat, nbnd)\n    units: degrees_north\nunlimited dimensions: \ncurrent shape = (192, 2)\nfilling on, default _FillValue of 9.969209968386869e+36 used, 'lon_bnds': <class 'netCDF4._netCDF4.Variable'>\nfloat32 lon_bnds(lon, nbnd)\n    units: degrees_east\nunlimited dimensions: \ncurrent shape = (288, 2)\nfilling on, default _FillValue of 9.969209968386869e+36 used}\n"
    }
   ],
   "source": []
  },
  {
   "cell_type": "code",
   "execution_count": null,
   "metadata": {},
   "outputs": [],
   "source": []
  }
 ],
 "metadata": {
  "language_info": {
   "codemirror_mode": {
    "name": "ipython",
    "version": 3
   },
   "file_extension": ".py",
   "mimetype": "text/x-python",
   "name": "python",
   "nbconvert_exporter": "python",
   "pygments_lexer": "ipython3",
   "version": "3.7.3-final"
  },
  "orig_nbformat": 2,
  "kernelspec": {
   "name": "python37364bitmaddiebeagleyvirtualenvfe7c2e22ccc9446191cde20c1f5cdcf0",
   "display_name": "Python 3.7.3 64-bit ('Maddie Beagley': virtualenv)"
  }
 },
 "nbformat": 4,
 "nbformat_minor": 2
}