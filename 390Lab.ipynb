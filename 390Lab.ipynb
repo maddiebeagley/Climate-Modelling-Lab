{
 "cells": [
  {
   "cell_type": "markdown",
   "metadata": {},
   "source": [
    "# Physics 390 - Climate Modelling\n",
    "\n",
    "The first stage of modelling is to import relevant modules into the notebook. After this, data can be loaded in using the functionality provided by the helper script. \n"
   ]
  },
  {
   "cell_type": "code",
   "execution_count": 45,
   "metadata": {},
   "outputs": [],
   "source": [
    "import numpy as np\n",
    "from netCDF4 import Dataset\n",
    "import os\n",
    "import numpy as np\n",
    "\n",
    "# Data directories\n",
    "MODEL_DATA_DIR = \"Model Data/\"\n",
    "SATELLITE_DATA_DIR = \"Satellite Data/\"\n",
    "\n",
    "# Full model data file paths\n",
    "cl_data_file = MODEL_DATA_DIR + 'clcalipso_CFmon_CESM2_amip_r2i1p1f1_gn_195001-201412.nc'\n",
    "clt_data_file = MODEL_DATA_DIR + 'cltcalipso_CFmon_CESM2_amip_r2i1p1f1_gn_195001-201412.nc'\n",
    "cl_ice_data_file = MODEL_DATA_DIR + 'clcalipsoice_CFmon_CESM2_amip_r2i1p1f1_gn_195001-201412.nc'\n",
    "cl_liq_data_file = MODEL_DATA_DIR + 'clcalipsoliq_CFmon_CESM2_amip_r2i1p1f1_gn_195001-201412.nc'\n",
    "\n",
    "# Load model data into variables with readable access\n",
    "cl_data = Dataset(cl_data_file, 'r')\n",
    "clt_data = Dataset(clt_data_file, 'r')\n",
    "cl_ice_data = Dataset(cl_ice_data_file, 'r')\n",
    "cl_liq_data = Dataset(cl_liq_data_file, 'r')\n",
    "\n",
    "# Full satellite data file paths\n",
    "cloud_fraction_phase_file = SATELLITE_DATA_DIR + '3D_CloudFraction_Phase330m_200606-201803_avg_CFMIP2_sat_3.1.2.nc'\n",
    "cloud_fraction_file = SATELLITE_DATA_DIR + '3D_CloudFraction330m_200606-201803_avg_CFMIP2_sat_3.1.2.nc'\n",
    "ECMWF_ta_plevels_file = SATELLITE_DATA_DIR + 'ECMWF_ta_plevels_2001_2018.nc'\n",
    "map_low_high_mid_high_file = SATELLITE_DATA_DIR + 'MapLowMidHigh330m_200606-201803_avg_CFMIP2_sat_3.1.2.nc'\n",
    "\n",
    "# Load satellite data into variables with read access\n",
    "cloud_fraction_phase_data = Dataset(cloud_fraction_phase_file, 'r')\n",
    "cloud_fraction_data = Dataset(cloud_fraction_file, 'r')\n",
    "ECMWF_ta_plevels_data = Dataset(ECMWF_ta_plevels_file, 'r')\n",
    "map_low_high_mid_high_data = Dataset(map_low_high_mid_high_file, 'r')\n",
    "\n",
    "def print_dataset(dataset):\n",
    "    print(\"Variables and Number of Data Points:\")\n",
    "    for key in dataset.variables.keys():\n",
    "        print(\"\\t\", key, \": \", len(dataset.variables[key][:]), \" data points\")"
   ]
  },
  {
   "cell_type": "code",
   "execution_count": 46,
   "metadata": {
    "tags": [
     "outputPrepend"
    ]
   },
   "outputs": [
    {
     "output_type": "stream",
     "name": "stdout",
     "text": "Variables and Number of Data Points:\n\t longitude :  180  data points\n\t latitude :  90  data points\n\t alt_mid :  40  data points\n\t alt_bound :  2  data points\n\t category :  6  data points\n\t time :  140  data points\n\t clcalipso_ice :  140  data points\n\t clcalipso_liq :  140  data points\n\t clcalipso_un :  140  data points\n\t clcalipso_RPIC :  140  data points\n"
    }
   ],
   "source": [
    "print_dataset(cloud_fraction_phase_data)"
   ]
  },
  {
   "cell_type": "code",
   "execution_count": null,
   "metadata": {},
   "outputs": [],
   "source": []
  }
 ],
 "metadata": {
  "language_info": {
   "codemirror_mode": {
    "name": "ipython",
    "version": 3
   },
   "file_extension": ".py",
   "mimetype": "text/x-python",
   "name": "python",
   "nbconvert_exporter": "python",
   "pygments_lexer": "ipython3",
   "version": "3.7.3-final"
  },
  "orig_nbformat": 2,
  "kernelspec": {
   "name": "python37364bitmaddiebeagleyvirtualenvfe7c2e22ccc9446191cde20c1f5cdcf0",
   "display_name": "Python 3.7.3 64-bit ('Maddie Beagley': virtualenv)"
  }
 },
 "nbformat": 4,
 "nbformat_minor": 2
}