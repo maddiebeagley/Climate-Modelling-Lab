{
 "cells": [
  {
   "cell_type": "markdown",
   "metadata": {},
   "source": [
    "# Physics 390 - Climate Modelling\n",
    "\n",
    "The first stage of modelling is to import relevant modules into the notebook. After this, data can be loaded in for each data file provided.\n"
   ]
  },
  {
   "cell_type": "code",
   "execution_count": null,
   "metadata": {},
   "outputs": [],
   "source": [
    "import numpy as np\n",
    "from netCDF4 import Dataset\n",
    "import numpy as np\n",
    "\n",
    "# Data directories\n",
    "MODEL_DATA_DIR = \"Model Data/\"\n",
    "SATELLITE_DATA_DIR = \"Satellite Data/\"\n",
    "\n",
    "# Full model data file paths\n",
    "cl_data_file = MODEL_DATA_DIR + 'clcalipso_CFmon_CESM2_amip_r2i1p1f1_gn_195001-201412.nc'\n",
    "clt_data_file = MODEL_DATA_DIR + 'cltcalipso_CFmon_CESM2_amip_r2i1p1f1_gn_195001-201412.nc'\n",
    "cl_ice_data_file = MODEL_DATA_DIR + 'clcalipsoice_CFmon_CESM2_amip_r2i1p1f1_gn_195001-201412.nc'\n",
    "cl_liq_data_file = MODEL_DATA_DIR + 'clcalipsoliq_CFmon_CESM2_amip_r2i1p1f1_gn_195001-201412.nc'\n",
    "\n",
    "# Full satellite data file paths\n",
    "cloud_fraction_phase_file = SATELLITE_DATA_DIR + '3D_CloudFraction_Phase330m_200606-201803_avg_CFMIP2_sat_3.1.2.nc'\n",
    "cloud_fraction_file = SATELLITE_DATA_DIR + '3D_CloudFraction330m_200606-201803_avg_CFMIP2_sat_3.1.2.nc'\n",
    "ECMWF_ta_plevels_file = SATELLITE_DATA_DIR + 'ECMWF_ta_plevels_2001_2018.nc'\n",
    "map_low_high_mid_high_file = SATELLITE_DATA_DIR + 'MapLowMidHigh330m_200606-201803_avg_CFMIP2_sat_3.1.2.nc'\n",
    "\n",
    "# Load model data into variables with readable access\n",
    "cl_data = Dataset(cl_data_file, 'r')\n",
    "clt_data = Dataset(clt_data_file, 'r')\n",
    "cl_ice_data = Dataset(cl_ice_data_file, 'r')\n",
    "cl_liq_data = Dataset(cl_liq_data_file, 'r')\n",
    "\n",
    "# Load satellite data into variables with read access\n",
    "cloud_fraction_phase_data = Dataset(cloud_fraction_phase_file, 'r')\n",
    "cloud_fraction_data = Dataset(cloud_fraction_file, 'r')\n",
    "ECMWF_ta_plevels_data = Dataset(ECMWF_ta_plevels_file, 'r')\n",
    "map_low_high_mid_high_data = Dataset(map_low_high_mid_high_file, 'r')\n",
    "\n",
    "# Display the names of all data points in the dataset and the number of data points in that set\n",
    "def print_dataset(dataset):\n",
    "    print(\"Variables and Number of Data Points:\")\n",
    "    for key in dataset.variables.keys():\n",
    "        print(\"\\t\", key, \": \", len(dataset.variables[key][:]), \" data points\")\n",
    "\n",
    "# Display the data for the variable name provided\n",
    "def print_data_points(dataset, variable_name):\n",
    "    print(variable_name, \":\")\n",
    "    print(dataset.variables[variable_name][:])\n"
   ]
  },
  {
   "cell_type": "code",
   "execution_count": null,
   "metadata": {
    "tags": [
     "outputPrepend"
    ]
   },
   "outputs": [],
   "source": [
    "print_dataset(clt_data)\n",
    "print_data_points(clt_data, \"lon\")\n",
    "print_data_points(clt_data, \"cltcalipso\")\n"
   ]
  },
  {
   "cell_type": "code",
   "execution_count": null,
   "metadata": {},
   "outputs": [],
   "source": []
  }
 ],
 "metadata": {
  "language_info": {
   "codemirror_mode": {
    "name": "ipython",
    "version": 3
   },
   "file_extension": ".py",
   "mimetype": "text/x-python",
   "name": "python",
   "nbconvert_exporter": "python",
   "pygments_lexer": "ipython3",
   "version": "3.7.3-final"
  },
  "orig_nbformat": 2,
  "kernelspec": {
   "name": "python37364bitmaddiebeagleyvirtualenvfe7c2e22ccc9446191cde20c1f5cdcf0",
   "display_name": "Python 3.7.3 64-bit ('Maddie Beagley': virtualenv)"
  }
 },
 "nbformat": 4,
 "nbformat_minor": 2
}